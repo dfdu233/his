{
 "cells": [
  {
   "cell_type": "code",
   "execution_count": 1,
   "metadata": {},
   "outputs": [
    {
     "name": "stdout",
     "output_type": "stream",
     "text": [
      "已处理文件：no89_hosoneu_2.sql，输出到：output.sql\n"
     ]
    }
   ],
   "source": [
    "import re\n",
    "\n",
    "def remove_insert_statements(input_file, output_file):\n",
    "    # 正则表达式匹配 INSERT INTO 语句\n",
    "    insert_pattern = re.compile(r'^\\s*INSERT\\s+INTO\\s+`?[\\w\\d_]+`?\\s+VALUES\\s*\\(.*?\\);\\s*$', re.IGNORECASE)\n",
    "\n",
    "    with open(input_file, 'r', encoding='utf-8') as infile, open(output_file, 'w', encoding='utf-8') as outfile:\n",
    "        for line in infile:\n",
    "            if not insert_pattern.match(line):\n",
    "                outfile.write(line)\n",
    "\n",
    "# 使用示例\n",
    "input_sql_file = 'no89_hosoneu_2.sql'  # 输入 SQL 文件名\n",
    "output_sql_file = 'output.sql'  # 输出 SQL 文件名\n",
    "remove_insert_statements(input_sql_file, output_sql_file)\n",
    "\n",
    "print(f\"已处理文件：{input_sql_file}，输出到：{output_sql_file}\")\n"
   ]
  }
 ],
 "metadata": {
  "kernelspec": {
   "display_name": "pytorch2",
   "language": "python",
   "name": "python3"
  },
  "language_info": {
   "codemirror_mode": {
    "name": "ipython",
    "version": 3
   },
   "file_extension": ".py",
   "mimetype": "text/x-python",
   "name": "python",
   "nbconvert_exporter": "python",
   "pygments_lexer": "ipython3",
   "version": "3.10.11"
  }
 },
 "nbformat": 4,
 "nbformat_minor": 2
}
